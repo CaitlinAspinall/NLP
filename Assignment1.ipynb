{
 "cells": [
  {
   "cell_type": "code",
   "execution_count": 2,
   "metadata": {},
   "outputs": [],
   "source": [
    "%reload_ext autoreload\n",
    "%autoreload 2\n",
    "%matplotlib inline"
   ]
  },
  {
   "cell_type": "code",
   "execution_count": 10,
   "metadata": {},
   "outputs": [],
   "source": [
    "from fastai.vision import *\n",
    "from fastai import * \n",
    "from fastai.text import *\n",
    "from tqdm import tqdm\n",
    "tqdm.pandas(desc=\"my bar!\")"
   ]
  },
  {
   "cell_type": "code",
   "execution_count": 11,
   "metadata": {
    "scrolled": true
   },
   "outputs": [
    {
     "name": "stdout",
     "output_type": "stream",
     "text": [
      "Requirement already satisfied: torchtext in /Users/caitlinaspinall/anaconda3/lib/python3.6/site-packages (0.3.1)\n",
      "Requirement already satisfied: tqdm in /Users/caitlinaspinall/anaconda3/lib/python3.6/site-packages (from torchtext) (4.31.1)\n",
      "Requirement already satisfied: requests in /Users/caitlinaspinall/anaconda3/lib/python3.6/site-packages (from torchtext) (2.21.0)\n",
      "Requirement already satisfied: torch in /Users/caitlinaspinall/anaconda3/lib/python3.6/site-packages (from torchtext) (1.1.0)\n",
      "Requirement already satisfied: numpy in /Users/caitlinaspinall/anaconda3/lib/python3.6/site-packages (from torchtext) (1.16.3)\n",
      "Requirement already satisfied: urllib3<1.25,>=1.21.1 in /Users/caitlinaspinall/anaconda3/lib/python3.6/site-packages (from requests->torchtext) (1.24.2)\n",
      "Requirement already satisfied: idna<2.9,>=2.5 in /Users/caitlinaspinall/anaconda3/lib/python3.6/site-packages (from requests->torchtext) (2.8)\n",
      "Requirement already satisfied: certifi>=2017.4.17 in /Users/caitlinaspinall/anaconda3/lib/python3.6/site-packages (from requests->torchtext) (2019.3.9)\n",
      "Requirement already satisfied: chardet<3.1.0,>=3.0.2 in /Users/caitlinaspinall/anaconda3/lib/python3.6/site-packages (from requests->torchtext) (3.0.4)\n",
      "Note: you may need to restart the kernel to use updated packages.\n"
     ]
    }
   ],
   "source": [
    "pip install torchtext"
   ]
  },
  {
   "cell_type": "raw",
   "metadata": {},
   "source": [
    "pip install -U spacy"
   ]
  },
  {
   "cell_type": "code",
   "execution_count": 12,
   "metadata": {},
   "outputs": [],
   "source": [
    "import torchtext\n",
    "from torchtext.data import Iterator, BucketIterator\n",
    "from torchvision import transforms, utils\n"
   ]
  },
  {
   "cell_type": "code",
   "execution_count": 13,
   "metadata": {},
   "outputs": [],
   "source": [
    "path = Config.data_path()\n",
    "path.mkdir(parents=True, exist_ok=True)"
   ]
  },
  {
   "cell_type": "raw",
   "metadata": {},
   "source": [
    "! kaggle competitions download -c quora-insincere-questions-classification -f embeddings.zip -p {path}  \n",
    "\n"
   ]
  },
  {
   "cell_type": "markdown",
   "metadata": {},
   "source": [
    "path.ls()"
   ]
  },
  {
   "cell_type": "code",
   "execution_count": 14,
   "metadata": {},
   "outputs": [],
   "source": [
    "df_train = pd.read_csv(path/'train.csv')\n",
    "df_test = pd.read_csv(path/'test.csv')\n",
    "# df_train"
   ]
  },
  {
   "cell_type": "code",
   "execution_count": 15,
   "metadata": {},
   "outputs": [],
   "source": [
    "import string\n",
    "puncts = [',', '.', '\"', ':', ')', '(', '-', '!', '?', '|', ';', \"'\", '$', '&', '/', '[', ']', '>', '%', '=', '#', '*', '+', '\\\\', '•',  '~', '@', '£', \n",
    " '·', '_', '{', '}', '©', '^', '®', '`',  '<', '→', '°', '€', '™', '›',  '♥', '←', '×', '§', '″', '′', 'Â', '█', '½', 'à', '…', \n",
    " '“', '★', '”', '–', '●', 'â', '►', '−', '¢', '²', '¬', '░', '¶', '↑', '±', '¿', '▾', '═', '¦', '║', '―', '¥', '▓', '—', '‹', '─', \n",
    " '▒', '：', '¼', '⊕', '▼', '▪', '†', '■', '’', '▀', '¨', '▄', '♫', '☆', 'é', '¯', '♦', '¤', '▲', 'è', '¸', '¾', 'Ã', '⋅', '‘', '∞', \n",
    " '∙', '）', '↓', '、', '│', '（', '»', '，', '♪', '╩', '╚', '³', '・', '╦', '╣', '╔', '╗', '▬', '❤', 'ï', 'Ø', '¹', '≤', '‡', '√', ]\n",
    "\n",
    "\n",
    "\n",
    "mispell_dict = {\"aren't\" : \"are not\",\n",
    "\"can't\" : \"cannot\",\n",
    "\"couldn't\" : \"could not\",\n",
    "\"didn't\" : \"did not\",\n",
    "\"doesn't\" : \"does not\",\n",
    "\"don't\" : \"do not\",\n",
    "\"hadn't\" : \"had not\",\n",
    "\"hasn't\" : \"has not\",\n",
    "\"haven't\" : \"have not\",\n",
    "\"he'd\" : \"he would\",\n",
    "\"he'll\" : \"he will\",\n",
    "\"he's\" : \"he is\",\n",
    "\"i'd\" : \"I would\",\n",
    "\"i'd\" : \"I had\",\n",
    "\"i'll\" : \"I will\",\n",
    "\"i'm\" : \"I am\",\n",
    "\"isn't\" : \"is not\",\n",
    "\"it's\" : \"it is\",\n",
    "\"it'll\":\"it will\",\n",
    "\"i've\" : \"I have\",\n",
    "\"let's\" : \"let us\",\n",
    "\"mightn't\" : \"might not\",\n",
    "\"mustn't\" : \"must not\",\n",
    "\"shan't\" : \"shall not\",\n",
    "\"she'd\" : \"she would\",\n",
    "\"she'll\" : \"she will\",\n",
    "\"she's\" : \"she is\",\n",
    "\"shouldn't\" : \"should not\",\n",
    "\"that's\" : \"that is\",\n",
    "\"there's\" : \"there is\",\n",
    "\"they'd\" : \"they would\",\n",
    "\"they'll\" : \"they will\",\n",
    "\"they're\" : \"they are\",\n",
    "\"they've\" : \"they have\",\n",
    "\"we'd\" : \"we would\",\n",
    "\"we're\" : \"we are\",\n",
    "\"weren't\" : \"were not\",\n",
    "\"we've\" : \"we have\",\n",
    "\"what'll\" : \"what will\",\n",
    "\"what're\" : \"what are\",\n",
    "\"what's\" : \"what is\",\n",
    "\"what've\" : \"what have\",\n",
    "\"where's\" : \"where is\",\n",
    "\"who'd\" : \"who would\",\n",
    "\"who'll\" : \"who will\",\n",
    "\"who're\" : \"who are\",\n",
    "\"who's\" : \"who is\",\n",
    "\"who've\" : \"who have\",\n",
    "\"won't\" : \"will not\",\n",
    "\"wouldn't\" : \"would not\",\n",
    "\"you'd\" : \"you would\",\n",
    "\"you'll\" : \"you will\",\n",
    "\"you're\" : \"you are\",\n",
    "\"you've\" : \"you have\",\n",
    "\"'re\": \" are\",\n",
    "\"wasn't\": \"was not\",\n",
    "\"we'll\":\" will\",\n",
    "\"didn't\": \"did not\",\n",
    "\"tryin'\":\"trying\"}\n",
    "\n",
    "def clean_numbers(x):\n",
    "    x = re.sub('[0-9]{5,}', '#####', x)\n",
    "    x = re.sub('[0-9]{4}', '####', x)\n",
    "    x = re.sub('[0-9]{3}', '###', x)\n",
    "    x = re.sub('[0-9]{2}', '##', x)\n",
    "    return x\n",
    "\n",
    "def mispelled_words(mispell_dict):\n",
    "    mispell_re = re.compile('(%s)' % '|'.join(mispell_dict.keys()))\n",
    "    return mispell_dict, mispell_re\n",
    "\n",
    "mispellings, mispellings_re = mispelled_words(mispell_dict)\n",
    "\n",
    "def replace_typical_mispell(text):\n",
    "    def replace(match):\n",
    "        return mispellings[match.group(0)]\n",
    "    return mispellings_re.sub(replace,text)\n",
    "\n",
    "def clean_text(x):\n",
    "\n",
    "    x = str(x)\n",
    "    for punct in puncts:\n",
    "        x.translate(str.maketrans('', '', string.punctuation))\n",
    "    return x\n",
    "\n"
   ]
  },
  {
   "cell_type": "code",
   "execution_count": 16,
   "metadata": {},
   "outputs": [
    {
     "name": "stderr",
     "output_type": "stream",
     "text": [
      "my bar!: 100%|██████████| 1306122/1306122 [11:06<00:00, 1960.79it/s]\n",
      "my bar!: 100%|██████████| 375806/375806 [03:29<00:00, 1792.65it/s]\n",
      "my bar!: 100%|██████████| 1306122/1306122 [00:19<00:00, 67467.34it/s]\n",
      "my bar!: 100%|██████████| 375806/375806 [00:05<00:00, 71040.60it/s]\n",
      "my bar!: 100%|██████████| 1306122/1306122 [00:18<00:00, 72090.03it/s]\n",
      "my bar!: 100%|██████████| 375806/375806 [00:05<00:00, 71190.36it/s]\n"
     ]
    }
   ],
   "source": [
    "df_train[\"question_text\"] = df_train[\"question_text\"].str.lower()\n",
    "df_test[\"question_text\"] = df_test[\"question_text\"].str.lower()\n",
    "\n",
    "df_train['question_text'] = df_train['question_text'].progress_apply(lambda x: clean_text(x))\n",
    "df_test['question_text'] = df_test['question_text'].progress_apply(lambda x: clean_text(x))\n",
    "\n",
    "df_train['question_text'] = df_train['question_text'].progress_apply(lambda x: clean_numbers(x))\n",
    "df_test['question_text'] = df_test['question_text'].progress_apply(lambda x:clean_numbers(x))\n",
    "\n",
    "df_train['question_text'] = df_train['question_text'].progress_apply(lambda x: replace_typical_mispell(x))\n",
    "df_test['question_text'] = df_test['question_text'].progress_apply(lambda x: replace_typical_mispell(x))\n",
    "\n",
    "train_x = df_train['question_text'].fillna('_##_').values\n",
    "test_x = df_test['question_text'].fillna('_##_').values"
   ]
  },
  {
   "cell_type": "markdown",
   "metadata": {},
   "source": [
    "import zipfile\n",
    "zf = zipfile.ZipFile(path/'test.csv.zip')\n",
    "df_test = pd.read_csv(zf.open('test.csv'))\n",
    "zf = zipfile.ZipFile(path/'train.csv.zip')\n",
    "df_train = pd.read_csv(zf.open('train.csv'))\n",
    "\n"
   ]
  },
  {
   "cell_type": "code",
   "execution_count": 14,
   "metadata": {},
   "outputs": [
    {
     "name": "stdout",
     "output_type": "stream",
     "text": [
      "                    qid                                      question_text  \\\n",
      "0  00002165364db923c7e6  how did quebec nationalists see their province...   \n",
      "1  000032939017120e6e44  do you have an adopted dog, how would you enco...   \n",
      "2  0000412ca6e4628ce2cf  why does velocity affect time? does velocity a...   \n",
      "\n",
      "   target  \n",
      "0       0  \n",
      "1       0  \n",
      "2       0  \n"
     ]
    }
   ],
   "source": [
    "print(df_train.head(3))"
   ]
  },
  {
   "cell_type": "code",
   "execution_count": 49,
   "metadata": {},
   "outputs": [
    {
     "name": "stdout",
     "output_type": "stream",
     "text": [
      "(1306122, 3)\n",
      "(375806, 2)\n"
     ]
    }
   ],
   "source": [
    "print(df_train.shape)\n",
    "print(df_test.shape)"
   ]
  },
  {
   "cell_type": "code",
   "execution_count": 50,
   "metadata": {},
   "outputs": [
    {
     "data": {
      "text/html": [
       "<div>\n",
       "<style scoped>\n",
       "    .dataframe tbody tr th:only-of-type {\n",
       "        vertical-align: middle;\n",
       "    }\n",
       "\n",
       "    .dataframe tbody tr th {\n",
       "        vertical-align: top;\n",
       "    }\n",
       "\n",
       "    .dataframe thead th {\n",
       "        text-align: right;\n",
       "    }\n",
       "</style>\n",
       "<table border=\"1\" class=\"dataframe\">\n",
       "  <thead>\n",
       "    <tr style=\"text-align: right;\">\n",
       "      <th></th>\n",
       "      <th>qid</th>\n",
       "      <th>question_text</th>\n",
       "      <th>target</th>\n",
       "    </tr>\n",
       "  </thead>\n",
       "  <tbody>\n",
       "    <tr>\n",
       "      <th>0</th>\n",
       "      <td>00002165364db923c7e6</td>\n",
       "      <td>how did quebec nationalists see their province...</td>\n",
       "      <td>0</td>\n",
       "    </tr>\n",
       "    <tr>\n",
       "      <th>1</th>\n",
       "      <td>000032939017120e6e44</td>\n",
       "      <td>do you have an adopted dog, how would you enco...</td>\n",
       "      <td>0</td>\n",
       "    </tr>\n",
       "    <tr>\n",
       "      <th>2</th>\n",
       "      <td>0000412ca6e4628ce2cf</td>\n",
       "      <td>why does velocity affect time? does velocity a...</td>\n",
       "      <td>0</td>\n",
       "    </tr>\n",
       "  </tbody>\n",
       "</table>\n",
       "</div>"
      ],
      "text/plain": [
       "                    qid                                      question_text  \\\n",
       "0  00002165364db923c7e6  how did quebec nationalists see their province...   \n",
       "1  000032939017120e6e44  do you have an adopted dog, how would you enco...   \n",
       "2  0000412ca6e4628ce2cf  why does velocity affect time? does velocity a...   \n",
       "\n",
       "   target  \n",
       "0       0  \n",
       "1       0  \n",
       "2       0  "
      ]
     },
     "execution_count": 50,
     "metadata": {},
     "output_type": "execute_result"
    }
   ],
   "source": [
    " df_train.head(3)"
   ]
  },
  {
   "cell_type": "code",
   "execution_count": 5,
   "metadata": {},
   "outputs": [],
   "source": [
    "def prepare_sequences():\n",
    "    tokenizer = lambda text: text.split() # the function above is the function we will be using to tokenize the text\n",
    "    TEXT = torchtext.data.Field(sequential=True, tokenize=tokenizer, lower=True)\n",
    "    LABEL = torchtext.data.Field(sequential=False, use_vocab=False) # sequential and use_vocab=False since no text (binary)\n",
    "    train_datafields = [(\"qid\", None), (\"question_text\", TEXT), (\"target\", LABEL)]\n",
    "    train = torchtext.data.TabularDataset( # If we had a validation set as well, we would add an additional .splits(...)\n",
    "                        # path=\"data/train_cleaned_v2.csv\", # the root directory where the data lies\n",
    "                        path = \"/Users/caitlinaspinall/.fastai/data/train.csv\",\n",
    "                        format='csv',\n",
    "                        # if your csv header has a header, make sure to pass this to ensure it doesn't get proceesed as data!\n",
    "                        skip_header=True, \n",
    "                        fields=train_datafields)\n",
    "    test_datafields = [(\"qid\", None),\n",
    "                     (\"question_text\", TEXT), (\"target\", LABEL)] \n",
    "    test = torchtext.data.TabularDataset( \n",
    "                path=\"/Users/caitlinaspinall/.fastai/data/test.csv\",\n",
    "                format=\"csv\",\n",
    "                skip_header=True,\n",
    "                fields=test_datafields)\n",
    "    return TEXT, LABEL, train, test\n",
    "# Chat Conversation End\n",
    "# Type a message...\n",
    "\n"
   ]
  },
  {
   "cell_type": "code",
   "execution_count": 5,
   "metadata": {},
   "outputs": [],
   "source": [
    "TEXT,LABEL,train,test = prepare_sequences()\n"
   ]
  },
  {
   "cell_type": "code",
   "execution_count": 17,
   "metadata": {},
   "outputs": [
    {
     "name": "stdout",
     "output_type": "stream",
     "text": [
      "                          qid  \\\n",
      "0        00002165364db923c7e6   \n",
      "1        000032939017120e6e44   \n",
      "2        0000412ca6e4628ce2cf   \n",
      "3        000042bf85aa498cd78e   \n",
      "4        0000455dfa3e01eae3af   \n",
      "5        00004f9a462a357c33be   \n",
      "6        00005059a06ee19e11ad   \n",
      "7        0000559f875832745e2e   \n",
      "8        00005bd3426b2d0c8305   \n",
      "9        00006e6928c5df60eacb   \n",
      "10       000075f67dd595c3deb5   \n",
      "11       000076f3b42776c692de   \n",
      "12       000089792b3fc8026741   \n",
      "13       000092a90bcfbfe8cd88   \n",
      "14       000095680e41a9a6f6e3   \n",
      "15       0000a89942e3143e333a   \n",
      "16       0000b8e1279eaa0a7062   \n",
      "17       0000bc0f62500f55959f   \n",
      "18       0000ce6c31f14d3e09ec   \n",
      "19       0000d329332845b8a7fa   \n",
      "20       0000dd973dfd35508c16   \n",
      "21       0000e4d455f9c8877dc9   \n",
      "22       0000e91571b60c2fb487   \n",
      "23       000101ac65db6e4a1c13   \n",
      "24       00010632971fe5e3e0e2   \n",
      "25       00010a2e064c3e8f152a   \n",
      "26       00012011b6c7759461e8   \n",
      "27       00012fd5128d576260ab   \n",
      "28       0001303b1799a042b26b   \n",
      "29       00013a8152b5f37b780e   \n",
      "...                       ...   \n",
      "1306092  fffeaee9356b09078753   \n",
      "1306093  fffeba722d9b371bd1b9   \n",
      "1306094  fffee269360dd0d3947a   \n",
      "1306095  fffee78cd374c14d15f8   \n",
      "1306096  fffef2de11d291406fdb   \n",
      "1306097  fffef6ecdfd410ddd5c0   \n",
      "1306098  ffff0e0bad740a698663   \n",
      "1306099  ffff0e4ea1bb6e16feec   \n",
      "1306100  ffff265faac66b6085da   \n",
      "1306101  ffff2adc1895bc0c32e1   \n",
      "1306102  ffff3778790af9baae76   \n",
      "1306103  ffff3f0a2449ffe4b9ff   \n",
      "1306104  ffff41393389d4206066   \n",
      "1306105  ffff42493fc203cd9532   \n",
      "1306106  ffff48dd47bee89fff79   \n",
      "1306107  ffff5fd051a032f32a39   \n",
      "1306108  ffff6d528040d3888b93   \n",
      "1306109  ffff8776cd30cdc8d7f8   \n",
      "1306110  ffff94d427ade3716cd1   \n",
      "1306111  ffffa382c58368071dc9   \n",
      "1306112  ffffa5b0fa76431c063f   \n",
      "1306113  ffffae5dbda3dc9e9771   \n",
      "1306114  ffffba7c4888798571c1   \n",
      "1306115  ffffc0c7158658a06fd9   \n",
      "1306116  ffffc404da586ac5a08f   \n",
      "1306117  ffffcc4e2331aaf1e41e   \n",
      "1306118  ffffd431801e5a2f4861   \n",
      "1306119  ffffd48fb36b63db010c   \n",
      "1306120  ffffec519fa37cf60c78   \n",
      "1306121  ffffed09fedb5088744a   \n",
      "\n",
      "                                             question_text  target  \n",
      "0        how did quebec nationalists see their province...       0  \n",
      "1        do you have an adopted dog, how would you enco...       0  \n",
      "2        why does velocity affect time? does velocity a...       0  \n",
      "3        how did otto von guericke used the magdeburg h...       0  \n",
      "4        can i convert montra helicon d to a mountain b...       0  \n",
      "5        is gaza slowly becoming auschwitz, dachau or t...       0  \n",
      "6        why does quora automatically ban conservative ...       0  \n",
      "7        is it crazy if i wash or wipe my groceries off...       0  \n",
      "8        is there such a thing as dressing moderately, ...       0  \n",
      "9        is it just me or have you ever been in this ph...       0  \n",
      "10                        what can you say about feminism?       0  \n",
      "11                    how were the calgary flames founded?       0  \n",
      "12       what is the dumbest, yet possibly true explana...       0  \n",
      "13       can we use our external hard disk as a os as w...       0  \n",
      "14       i am ##, living at home and have no boyfriend....       0  \n",
      "15       what do you know about bram fischer and the ri...       0  \n",
      "16       how difficult is it to find a good instructor ...       0  \n",
      "17                   have you licked the skin of a corpse?       0  \n",
      "18       do you think amazon will adopt an in house app...       0  \n",
      "19       how many baronies might exist within a county ...       0  \n",
      "20       how i know whether a girl had done sex before ...       0  \n",
      "21       how do i become a fast learner both in my prof...       0  \n",
      "22       has the united states become the largest dicta...       1  \n",
      "23       what is the strangest phenomenon you know of, ...       0  \n",
      "24            should i leave my friends and find new ones?       0  \n",
      "25       can you make amazon alexa trigger events in th...       0  \n",
      "26       why have not two democracies never ever went f...       0  \n",
      "27                         how can i top cbse in 6 months?       0  \n",
      "28       what should i know before visiting mcleodganj ...       0  \n",
      "29       how do modern military submarines reduce noise...       0  \n",
      "...                                                    ...     ...  \n",
      "1306092  i hardly talk about my interests (reading and ...       0  \n",
      "1306093  how is it to have intimate relation with your ...       1  \n",
      "1306094  why is it when singers have lyrics about voice...       1  \n",
      "1306095     does the ginger plant naturally contain sugar?       0  \n",
      "1306096  are technological advances in medicine doing m...       0  \n",
      "1306097  can i pass class ## math if i have ## marks ou...       0  \n",
      "1306098  do you think that the physical traits you are ...       0  \n",
      "1306099                  do pakis smell of curry and shit?       1  \n",
      "1306100  on quora is it as good as downvoting the answe...       0  \n",
      "1306101                 are the wahabis muslim's puritans?       0  \n",
      "1306102  what steps can i take to live a normal life if...       0  \n",
      "1306103  is not trump right after all? why should the u...       1  \n",
      "1306104  is ## too late for a career in creative advert...       0  \n",
      "1306105  what is difference between the filteration wor...       0  \n",
      "1306106  if the universe \"popped\" into existence from n...       0  \n",
      "1306107  how does a shared service technology team meas...       0  \n",
      "1306108                    how is dsatm civil engineering?       0  \n",
      "1306109  do you know any problem that depends solely on...       0  \n",
      "1306110  what are some comic ideas for you tube videos ...       0  \n",
      "1306111  if you had $## million of bitcoin, could you s...       0  \n",
      "1306112                are you ashamed of being an indian?       1  \n",
      "1306113  what are the methods to determine fossil ages ...       0  \n",
      "1306114                          what is your story today?       0  \n",
      "1306115  how do i consume ### gms protein daily both ve...       0  \n",
      "1306116  what are the good career options for a msc che...       0  \n",
      "1306117  what other technical skills do you need as a c...       0  \n",
      "1306118  does ms in ece have good job prospects in usa ...       0  \n",
      "1306119                          is foam insulation toxic?       0  \n",
      "1306120  how can one start a research project based on ...       0  \n",
      "1306121  who wins in a battle between a wolverine and a...       0  \n",
      "\n",
      "[1306122 rows x 3 columns]\n"
     ]
    }
   ],
   "source": [
    "print(df_train)\n"
   ]
  },
  {
   "cell_type": "code",
   "execution_count": 25,
   "metadata": {},
   "outputs": [],
   "source": [
    "\n",
    "from torchtext.data import Iterator, BucketIterator\n",
    "train_iter = BucketIterator(\n",
    "    train, # we pass in the datasets we want the iterator to draw data from\n",
    "    batch_size=64, \n",
    "    sort_key= lambda x: len(x.question_text), # the BucketIterator needs to be told what function it should use to group the data.\n",
    "    sort_within_batch=False, # sorting would add bias\n",
    "    repeat=False)\n",
    "test_iter = Iterator(test, batch_size = 64, device = None, sort = False,  sort_within_batch = False, repeat = False) #Changed device from -1 to None\n"
   ]
  },
  {
   "cell_type": "code",
   "execution_count": 26,
   "metadata": {},
   "outputs": [
    {
     "ename": "TypeError",
     "evalue": "object of type 'module' has no len()",
     "output_type": "error",
     "traceback": [
      "\u001b[0;31m---------------------------------------------------------------------------\u001b[0m",
      "\u001b[0;31mTypeError\u001b[0m                                 Traceback (most recent call last)",
      "\u001b[0;32m<ipython-input-26-b8d0bf1a09a5>\u001b[0m in \u001b[0;36m<module>\u001b[0;34m\u001b[0m\n\u001b[0;32m----> 1\u001b[0;31m \u001b[0miter\u001b[0m\u001b[0;34m(\u001b[0m\u001b[0mtrain_iter\u001b[0m\u001b[0;34m)\u001b[0m\u001b[0;34m.\u001b[0m\u001b[0m__next__\u001b[0m\u001b[0;34m(\u001b[0m\u001b[0;34m)\u001b[0m\u001b[0;34m.\u001b[0m\u001b[0mquestion_text\u001b[0m\u001b[0;34m\u001b[0m\u001b[0;34m\u001b[0m\u001b[0m\n\u001b[0m",
      "\u001b[0;32m~/anaconda3/lib/python3.6/site-packages/torchtext/data/iterator.py\u001b[0m in \u001b[0;36m__iter__\u001b[0;34m(self)\u001b[0m\n\u001b[1;32m    140\u001b[0m     \u001b[0;32mdef\u001b[0m \u001b[0m__iter__\u001b[0m\u001b[0;34m(\u001b[0m\u001b[0mself\u001b[0m\u001b[0;34m)\u001b[0m\u001b[0;34m:\u001b[0m\u001b[0;34m\u001b[0m\u001b[0;34m\u001b[0m\u001b[0m\n\u001b[1;32m    141\u001b[0m         \u001b[0;32mwhile\u001b[0m \u001b[0;32mTrue\u001b[0m\u001b[0;34m:\u001b[0m\u001b[0;34m\u001b[0m\u001b[0;34m\u001b[0m\u001b[0m\n\u001b[0;32m--> 142\u001b[0;31m             \u001b[0mself\u001b[0m\u001b[0;34m.\u001b[0m\u001b[0minit_epoch\u001b[0m\u001b[0;34m(\u001b[0m\u001b[0;34m)\u001b[0m\u001b[0;34m\u001b[0m\u001b[0;34m\u001b[0m\u001b[0m\n\u001b[0m\u001b[1;32m    143\u001b[0m             \u001b[0;32mfor\u001b[0m \u001b[0midx\u001b[0m\u001b[0;34m,\u001b[0m \u001b[0mminibatch\u001b[0m \u001b[0;32min\u001b[0m \u001b[0menumerate\u001b[0m\u001b[0;34m(\u001b[0m\u001b[0mself\u001b[0m\u001b[0;34m.\u001b[0m\u001b[0mbatches\u001b[0m\u001b[0;34m)\u001b[0m\u001b[0;34m:\u001b[0m\u001b[0;34m\u001b[0m\u001b[0;34m\u001b[0m\u001b[0m\n\u001b[1;32m    144\u001b[0m                 \u001b[0;31m# fast-forward if loaded from state\u001b[0m\u001b[0;34m\u001b[0m\u001b[0;34m\u001b[0m\u001b[0;34m\u001b[0m\u001b[0m\n",
      "\u001b[0;32m~/anaconda3/lib/python3.6/site-packages/torchtext/data/iterator.py\u001b[0m in \u001b[0;36minit_epoch\u001b[0;34m(self)\u001b[0m\n\u001b[1;32m    116\u001b[0m             \u001b[0mself\u001b[0m\u001b[0;34m.\u001b[0m\u001b[0m_random_state_this_epoch\u001b[0m \u001b[0;34m=\u001b[0m \u001b[0mself\u001b[0m\u001b[0;34m.\u001b[0m\u001b[0mrandom_shuffler\u001b[0m\u001b[0;34m.\u001b[0m\u001b[0mrandom_state\u001b[0m\u001b[0;34m\u001b[0m\u001b[0;34m\u001b[0m\u001b[0m\n\u001b[1;32m    117\u001b[0m \u001b[0;34m\u001b[0m\u001b[0m\n\u001b[0;32m--> 118\u001b[0;31m         \u001b[0mself\u001b[0m\u001b[0;34m.\u001b[0m\u001b[0mcreate_batches\u001b[0m\u001b[0;34m(\u001b[0m\u001b[0;34m)\u001b[0m\u001b[0;34m\u001b[0m\u001b[0;34m\u001b[0m\u001b[0m\n\u001b[0m\u001b[1;32m    119\u001b[0m \u001b[0;34m\u001b[0m\u001b[0m\n\u001b[1;32m    120\u001b[0m         \u001b[0;32mif\u001b[0m \u001b[0mself\u001b[0m\u001b[0;34m.\u001b[0m\u001b[0m_restored_from_state\u001b[0m\u001b[0;34m:\u001b[0m\u001b[0;34m\u001b[0m\u001b[0;34m\u001b[0m\u001b[0m\n",
      "\u001b[0;32m~/anaconda3/lib/python3.6/site-packages/torchtext/data/iterator.py\u001b[0m in \u001b[0;36mcreate_batches\u001b[0;34m(self)\u001b[0m\n\u001b[1;32m    243\u001b[0m                                  self.batch_size_fn)\n\u001b[1;32m    244\u001b[0m         \u001b[0;32melse\u001b[0m\u001b[0;34m:\u001b[0m\u001b[0;34m\u001b[0m\u001b[0;34m\u001b[0m\u001b[0m\n\u001b[0;32m--> 245\u001b[0;31m             self.batches = pool(self.data(), self.batch_size,\n\u001b[0m\u001b[1;32m    246\u001b[0m                                 \u001b[0mself\u001b[0m\u001b[0;34m.\u001b[0m\u001b[0msort_key\u001b[0m\u001b[0;34m,\u001b[0m \u001b[0mself\u001b[0m\u001b[0;34m.\u001b[0m\u001b[0mbatch_size_fn\u001b[0m\u001b[0;34m,\u001b[0m\u001b[0;34m\u001b[0m\u001b[0;34m\u001b[0m\u001b[0m\n\u001b[1;32m    247\u001b[0m                                 \u001b[0mrandom_shuffler\u001b[0m\u001b[0;34m=\u001b[0m\u001b[0mself\u001b[0m\u001b[0;34m.\u001b[0m\u001b[0mrandom_shuffler\u001b[0m\u001b[0;34m,\u001b[0m\u001b[0;34m\u001b[0m\u001b[0;34m\u001b[0m\u001b[0m\n",
      "\u001b[0;32m~/anaconda3/lib/python3.6/site-packages/torchtext/data/iterator.py\u001b[0m in \u001b[0;36mdata\u001b[0;34m(self)\u001b[0m\n\u001b[1;32m    103\u001b[0m             \u001b[0mxs\u001b[0m \u001b[0;34m=\u001b[0m \u001b[0msorted\u001b[0m\u001b[0;34m(\u001b[0m\u001b[0mself\u001b[0m\u001b[0;34m.\u001b[0m\u001b[0mdataset\u001b[0m\u001b[0;34m,\u001b[0m \u001b[0mkey\u001b[0m\u001b[0;34m=\u001b[0m\u001b[0mself\u001b[0m\u001b[0;34m.\u001b[0m\u001b[0msort_key\u001b[0m\u001b[0;34m)\u001b[0m\u001b[0;34m\u001b[0m\u001b[0;34m\u001b[0m\u001b[0m\n\u001b[1;32m    104\u001b[0m         \u001b[0;32melif\u001b[0m \u001b[0mself\u001b[0m\u001b[0;34m.\u001b[0m\u001b[0mshuffle\u001b[0m\u001b[0;34m:\u001b[0m\u001b[0;34m\u001b[0m\u001b[0;34m\u001b[0m\u001b[0m\n\u001b[0;32m--> 105\u001b[0;31m             \u001b[0mxs\u001b[0m \u001b[0;34m=\u001b[0m \u001b[0;34m[\u001b[0m\u001b[0mself\u001b[0m\u001b[0;34m.\u001b[0m\u001b[0mdataset\u001b[0m\u001b[0;34m[\u001b[0m\u001b[0mi\u001b[0m\u001b[0;34m]\u001b[0m \u001b[0;32mfor\u001b[0m \u001b[0mi\u001b[0m \u001b[0;32min\u001b[0m \u001b[0mself\u001b[0m\u001b[0;34m.\u001b[0m\u001b[0mrandom_shuffler\u001b[0m\u001b[0;34m(\u001b[0m\u001b[0mrange\u001b[0m\u001b[0;34m(\u001b[0m\u001b[0mlen\u001b[0m\u001b[0;34m(\u001b[0m\u001b[0mself\u001b[0m\u001b[0;34m.\u001b[0m\u001b[0mdataset\u001b[0m\u001b[0;34m)\u001b[0m\u001b[0;34m)\u001b[0m\u001b[0;34m)\u001b[0m\u001b[0;34m]\u001b[0m\u001b[0;34m\u001b[0m\u001b[0;34m\u001b[0m\u001b[0m\n\u001b[0m\u001b[1;32m    106\u001b[0m         \u001b[0;32melse\u001b[0m\u001b[0;34m:\u001b[0m\u001b[0;34m\u001b[0m\u001b[0;34m\u001b[0m\u001b[0m\n\u001b[1;32m    107\u001b[0m             \u001b[0mxs\u001b[0m \u001b[0;34m=\u001b[0m \u001b[0mself\u001b[0m\u001b[0;34m.\u001b[0m\u001b[0mdataset\u001b[0m\u001b[0;34m\u001b[0m\u001b[0;34m\u001b[0m\u001b[0m\n",
      "\u001b[0;31mTypeError\u001b[0m: object of type 'module' has no len()"
     ]
    }
   ],
   "source": [
    "iter(train_iter).__next__().question_text"
   ]
  },
  {
   "cell_type": "code",
   "execution_count": null,
   "metadata": {},
   "outputs": [],
   "source": []
  },
  {
   "cell_type": "code",
   "execution_count": null,
   "metadata": {},
   "outputs": [],
   "source": []
  },
  {
   "cell_type": "code",
   "execution_count": null,
   "metadata": {},
   "outputs": [],
   "source": []
  }
 ],
 "metadata": {
  "kernelspec": {
   "display_name": "Python 3",
   "language": "python",
   "name": "python3"
  },
  "language_info": {
   "codemirror_mode": {
    "name": "ipython",
    "version": 3
   },
   "file_extension": ".py",
   "mimetype": "text/x-python",
   "name": "python",
   "nbconvert_exporter": "python",
   "pygments_lexer": "ipython3",
   "version": "3.6.8"
  }
 },
 "nbformat": 4,
 "nbformat_minor": 2
}
